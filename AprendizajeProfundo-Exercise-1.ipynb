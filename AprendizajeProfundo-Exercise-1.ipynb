{
 "cells": [
  {
   "cell_type": "markdown",
   "metadata": {},
   "source": [
    "# Universidad Nacional de Córdoba\n",
    "# DIPLODATOS - Facultad de Matemática, Astronomía, Física y Computación\n",
    "\n",
    "## Trabajo Práctico Número 1 (Analisis del archivo exercise_1.py)\n",
    "\n",
    "Autores: \n",
    "* Diaz Cobos Facundo\n",
    "* Epifanio Luis\n",
    "* Gonzalez Leonardo David\n",
    "* Gualpa Mariano Martín\n",
    "\n",
    "\n"
   ]
  },
  {
   "cell_type": "markdown",
   "metadata": {},
   "source": [
    "# 1. Consigna del Ejercicio 1.\n",
    "\n",
    "1. Procesar el conjunto de datos para obtener una representación TfIDf de cada review.\n",
    "  * Hint: User el código de *Aprendizaje Supervisado*\n",
    "  * Hint: El método de fit de Keras crea internamente un conjunto de datos de validación, por lo que no tienen que preocuparse por eso.\n",
    "\n",
    "2. Construir un pipeline de clasificación con un modelo Keras NLP.\n",
    "\n",
    "3. Entrenar uno o varios modelos (con dos o tres es suficiente, veremos más de esto en el práctico 2). Evaluar los modelos en el conjunto de test.\n",
    "\n",
    "4. Reportar los hyperparámetros y resultados de todos los modelos entrenados. Para esto, pueden utilizar una notebook o un archivo (pdf|md). Dentro de este reporte tiene que describir:\n",
    "  * Hyperparámetros con los que procesaron el dataset: tamaño del vocabulario, normalizaciones, etc.\n",
    "  * Las decisiones tomadas al construir cada modelo: regularización, dropout, número y tamaño de las capas, optimizador.\n",
    "  * Proceso de entrenamiento: división del train/test, tamaño del batch, número de épocas, métricas de evaluación. Seleccione los mejores hiperparámetros en función de su rendimiento. El proceso de entrenamiento debería ser el mismo para todos los modelos.\n",
    "  * (Punto estrella) Analizar si el clasificador está haciendo overfitting. Esto se puede determinar a partir del resultado del método fit."
   ]
  },
  {
   "cell_type": "markdown",
   "metadata": {},
   "source": [
    "# 2. Desarrollo.\n",
    "\n",
    "## 2.1. Carga de Librerías y Funciones "
   ]
  },
  {
   "cell_type": "code",
   "execution_count": 1,
   "metadata": {
    "ExecuteTime": {
     "end_time": "2018-09-22T03:45:02.949218Z",
     "start_time": "2018-09-22T03:45:02.936300Z"
    }
   },
   "outputs": [
    {
     "data": {
      "application/javascript": [
       "IPython.OutputArea.auto_scroll_threshold = 9999;"
      ],
      "text/plain": [
       "<IPython.core.display.Javascript object>"
      ]
     },
     "metadata": {},
     "output_type": "display_data"
    }
   ],
   "source": [
    "%%javascript\n",
    "IPython.OutputArea.auto_scroll_threshold = 9999;"
   ]
  },
  {
   "cell_type": "code",
   "execution_count": 2,
   "metadata": {},
   "outputs": [],
   "source": [
    "# To make it work on Colab.\n",
    "#!wget --continue https://github.com/david-gonzalez/aprendizaje-profundo/raw/master/dataset/txt_sentoken.zip\n",
    "#!mkdir dataset && mv txt_sentoken.zip ./dataset\n",
    "#!cd dataset && unzip txt_sentoken.zip"
   ]
  },
  {
   "cell_type": "markdown",
   "metadata": {},
   "source": [
    "### Instalar librerías de nltk por única vez.\n",
    "Descomentar y correr solo si no se tienen instaladas."
   ]
  },
  {
   "cell_type": "code",
   "execution_count": 3,
   "metadata": {},
   "outputs": [],
   "source": [
    "#import nltk\n",
    "#nltk.download('stopwords')\n",
    "#nltk.download('punkt')"
   ]
  },
  {
   "cell_type": "markdown",
   "metadata": {},
   "source": [
    "### Importar paquetes."
   ]
  },
  {
   "cell_type": "code",
   "execution_count": 4,
   "metadata": {
    "ExecuteTime": {
     "end_time": "2018-09-22T03:45:04.613427Z",
     "start_time": "2018-09-22T03:45:02.951091Z"
    }
   },
   "outputs": [
    {
     "name": "stderr",
     "output_type": "stream",
     "text": [
      "/Users/mgualpa/anaconda3/envs/DataScience/lib/python3.6/site-packages/h5py/__init__.py:36: FutureWarning: Conversion of the second argument of issubdtype from `float` to `np.floating` is deprecated. In future, it will be treated as `np.float64 == np.dtype(float).type`.\n",
      "  from ._conv import register_converters as _register_converters\n",
      "Using TensorFlow backend.\n"
     ]
    }
   ],
   "source": [
    "from IPython.display import display, HTML\n",
    "from itertools import repeat\n",
    "\n",
    "from keras import regularizers, layers, optimizers, losses, metrics\n",
    "from keras.initializers import RandomNormal\n",
    "from keras.layers import Bidirectional, GlobalMaxPool1D\n",
    "from keras.layers import Dense, GRU, Embedding\n",
    "from keras.models import Sequential\n",
    "from keras.optimizers import Adam\n",
    "\n",
    "from nltk.corpus import stopwords\n",
    "from nltk.stem.snowball import SnowballStemmer\n",
    "from nltk.tokenize import sent_tokenize, word_tokenize\n",
    "from nltk.tokenize import WordPunctTokenizer\n",
    "\n",
    "from printutils import print_message, print_new_process, print_end\n",
    "\n",
    "from sklearn.datasets import load_files\n",
    "from sklearn.feature_extraction.text import TfidfVectorizer\n",
    "from sklearn.model_selection import train_test_split\n",
    "from sklearn.preprocessing import Normalizer\n",
    "\n",
    "from tensorflow.python.client import device_lib\n",
    "from tensorflow.python.keras.utils import np_utils   # for tf 1.3.1\n",
    "from tensorflow.test import gpu_device_name\n",
    "\n",
    "import argparse\n",
    "import datetime\n",
    "import numpy  as np\n",
    "import matplotlib.pyplot as plt\n",
    "import os\n",
    "import pandas as pd\n",
    "import re\n",
    "import string"
   ]
  },
  {
   "cell_type": "code",
   "execution_count": 5,
   "metadata": {
    "ExecuteTime": {
     "end_time": "2018-09-22T03:45:04.637078Z",
     "start_time": "2018-09-22T03:45:04.616162Z"
    }
   },
   "outputs": [],
   "source": [
    "def read_args():\n",
    "    parser = argparse.ArgumentParser(description='Exercise 1')\n",
    "    # Here you have some examples of classifier parameters. You can add\n",
    "    # more arguments or change these if you need to.\n",
    "    parser.add_argument('--num_units', nargs='+', default=[100], type=int,\n",
    "                        help='Number of hidden units of each hidden layer.')\n",
    "    parser.add_argument('--dropout', nargs='+', default=[0.5], type=float,\n",
    "                        help='Dropout ratio for every layer.')\n",
    "    parser.add_argument('--batch_size', type=int, default=32,\n",
    "                        help='Number of instances in each batch.')\n",
    "\n",
    "    # New parameters:    \n",
    "    parser.add_argument('--model', type=int, default=10, help='Number of model to run')\n",
    "    parser.add_argument('--max_features', type=int, default=2000, help='Max number of words used inTfidfVectorizer')\n",
    "    parser.add_argument('--epochs', type=int, default=10, help='Number of epochs')\n",
    "    parser.add_argument('--shuffle', type=str, default='batch', help='Shuffle value')\n",
    "    parser.add_argument('--random_seed', type=int, default=10, help='Random seed number')\n",
    "    parser.add_argument('--verbose', type=int, default=1, help='Verbose info on screen')\n",
    "    \n",
    "    # parse parameters\n",
    "    if arguments == None:\n",
    "        args = parser.parse_args()\n",
    "    else:\n",
    "        args = parser.parse_args(arguments)\n",
    "\n",
    "    assert len(args.num_units) == len(args.dropout)\n",
    "    return args"
   ]
  },
  {
   "cell_type": "markdown",
   "metadata": {},
   "source": [
    "## 2.2. Procesar el conjunto de datos utilizando TfIDf vectorizer para crear una matriz de entrada.\n",
    "\n",
    "__Responde al punto:__\n",
    "\n",
    "_1. Procesar el conjunto de datos para obtener una representación TfIDf de cada review._\n",
    "  * _Hint: User el código de *Aprendizaje Supervisado*_\n",
    "  * _Hint: El método de fit de Keras crea internamente un conjunto de datos de validación, por lo que no tienen que preocuparse por eso._\n",
    "\n",
    "\n",
    "### Apply the Tfidf vectorizer to create input matrix\n",
    "Creamos un método para vectorizar la entrada, pero antes aplicamos algo de data cleaning para mejorar la snesitividad del modelo"
   ]
  },
  {
   "cell_type": "code",
   "execution_count": 6,
   "metadata": {},
   "outputs": [],
   "source": [
    "# Some variable\n",
    "LANGUAGE='english'"
   ]
  },
  {
   "cell_type": "code",
   "execution_count": 7,
   "metadata": {},
   "outputs": [],
   "source": [
    "stop_words = list()     \n",
    "nltk_words = stopwords.words(LANGUAGE)\n",
    "\n",
    "custom_words = []\n",
    "\n",
    "stop_words.extend(nltk_words)\n",
    "stop_words.extend(custom_words)\n",
    "stop_words = set(stop_words)"
   ]
  },
  {
   "cell_type": "code",
   "execution_count": 8,
   "metadata": {},
   "outputs": [],
   "source": [
    "#Load an Stemmer\n",
    "# load nltk's SnowballStemmer as variabled 'stemmer'\n",
    "stemmer = SnowballStemmer(LANGUAGE)\n",
    "\n",
    "def tokenize_and_stem(text):    \n",
    "    # first tokenize by sentence, then by word to ensure that punctuation is caught as it's own token\n",
    "\n",
    "    translator = str.maketrans('', '', string.punctuation)\n",
    "\n",
    "    tokens = [\n",
    "        word #.translate(translator)\n",
    "        for sent in sent_tokenize( text ) \n",
    "        for word in word_tokenize( sent )\n",
    "    ]\n",
    "    filtered_tokens = []\n",
    "    # filter out any tokens not containing letters (e.g., numeric tokens, raw punctuation)\n",
    "    for token in tokens:\n",
    "        if re.search('[a-zA-Z]', token):\n",
    "            filtered_tokens.append(token)\n",
    "    stems = [stemmer.stem(t) for t in filtered_tokens]\n",
    "    #stems = [t for t in filtered_tokens]\n",
    "    return stems"
   ]
  },
  {
   "cell_type": "code",
   "execution_count": 9,
   "metadata": {
    "ExecuteTime": {
     "end_time": "2018-09-22T03:45:04.661331Z",
     "start_time": "2018-09-22T03:45:04.639663Z"
    }
   },
   "outputs": [],
   "source": [
    "# TODO 1: Apply the Tfidf vectorizer to create input matrix\n",
    "def vectorize_input(x_train, x_test,args):\n",
    "\n",
    "    vectorizer = TfidfVectorizer(\n",
    "        analyzer='word', \n",
    "        max_df        = 0.97, \n",
    "        max_features  = None, #args.max_features,\n",
    "        min_df        = 0.01,\n",
    "        #ngram_range   = (1,5),\n",
    "        norm          = 'l2',\n",
    "        stop_words    = stop_words,\n",
    "        strip_accents = 'ascii',\n",
    "        tokenizer     = tokenize_and_stem,\n",
    "        use_idf       = True \n",
    "    )\n",
    "    \n",
    "    \n",
    "    x_train_vec = vectorizer.fit_transform(x_train).toarray()\n",
    "    x_test_vec = vectorizer.transform(x_test).toarray()\n",
    "    \n",
    "    norm = Normalizer().fit(x_train_vec)\n",
    "    \n",
    "    x_train_vec = norm.transform(x_train_vec)\n",
    "    x_test_vec  = norm.transform(x_test_vec)\n",
    "    \n",
    "    print_message('x_train_vec - type: {}, shape:{}'.format(type(x_train_vec),x_train_vec.shape),args)\n",
    "    print_message('x_test_vec - type: {}, shape:{}'.format(type(x_test_vec),x_test_vec.shape),args)\n",
    "    \n",
    "    print('total detected features {}'.format( \n",
    "            len( vectorizer.get_feature_names() ) \n",
    "            ) \n",
    "     )\n",
    "    print('vectorizer {}'.format( vectorizer ))\n",
    "      \n",
    "    return x_train_vec, x_test_vec\n"
   ]
  },
  {
   "cell_type": "markdown",
   "metadata": {},
   "source": [
    "#### Funcion: load_dataset():         \n",
    "La misma función del archivo, donde llamamos a nuestra nueva rutina:"
   ]
  },
  {
   "cell_type": "code",
   "execution_count": 10,
   "metadata": {
    "ExecuteTime": {
     "end_time": "2018-09-22T03:45:04.677576Z",
     "start_time": "2018-09-22T03:45:04.664435Z"
    }
   },
   "outputs": [],
   "source": [
    "from keras.datasets import imdb\n",
    "\n",
    "def load_dataset(args):\n",
    "    \n",
    "    print_new_process('Load and vectorize Data:',args)\n",
    "    \n",
    "    dataset = load_files('dataset/txt_sentoken', shuffle=False)\n",
    "\n",
    "    X_train, X_test, y_train, y_test = train_test_split(dataset.data, dataset.target, test_size=0.25, random_state=10042)\n",
    "    \n",
    "    print_message('Training samples {} ({}), test_samples {} ({})'.format(\n",
    "        len(X_train),\n",
    "        len(y_train), \n",
    "        len(X_test), \n",
    "        len(y_test)), args)\n",
    "\n",
    "    # TODO 1: Apply the Tfidf vectorizer to create input matrix\n",
    "    x_train_vec, x_test_vec = vectorize_input(X_train, X_test,args)\n",
    "        \n",
    "    return x_train_vec, x_test_vec, y_train, y_test"
   ]
  },
  {
   "cell_type": "markdown",
   "metadata": {},
   "source": [
    "## 2.3. Construir modelos Keras\n",
    "\n",
    "Se plantean modelos con diferentes arquitecturas para realizar las pruebas:\n",
    "\n",
    "### Build the Keras models:"
   ]
  },
  {
   "cell_type": "markdown",
   "metadata": {},
   "source": [
    "### Model 1: "
   ]
  },
  {
   "cell_type": "code",
   "execution_count": 11,
   "metadata": {
    "ExecuteTime": {
     "end_time": "2018-09-22T04:07:56.486348Z",
     "start_time": "2018-09-22T04:07:56.470725Z"
    }
   },
   "outputs": [],
   "source": [
    "from keras.models import Sequential \n",
    "from keras.layers import Dense, Activation, Dropout, Embedding, LSTM\n",
    "from keras import optimizers, regularizers\n",
    "\n",
    "def build_keras_model_1(x_train_vec, args):\n",
    "    \n",
    "    input_size = x_train_vec.shape[1]\n",
    "       \n",
    "    model = Sequential()\n",
    "    model.add(Dense(args.num_units[0], input_shape=(input_size,)))    \n",
    "    model.add(Activation('relu'))\n",
    "    \n",
    "    model.add(Dropout(args.dropout[0]))    \n",
    "    \n",
    "    model.add(Dense(2))\n",
    "    model.add(Activation('softmax'))\n",
    "    \n",
    "    model.compile(loss='categorical_crossentropy', \n",
    "                  optimizer=optimizers.Adagrad(), \n",
    "                  metrics=['accuracy'])\n",
    "    \n",
    "    # Show model info on screen\n",
    "    print_message('MODEL 1:', args)\n",
    "    print_message(model.summary(), args)\n",
    " \n",
    "    \n",
    "    return model"
   ]
  },
  {
   "cell_type": "markdown",
   "metadata": {},
   "source": [
    "\n",
    "### Model 2: "
   ]
  },
  {
   "cell_type": "code",
   "execution_count": 12,
   "metadata": {
    "ExecuteTime": {
     "end_time": "2018-09-22T03:48:21.412996Z",
     "start_time": "2018-09-22T03:48:21.315513Z"
    }
   },
   "outputs": [],
   "source": [
    "  from keras.layers.convolutional import Conv1D\n",
    "from keras.layers.convolutional import MaxPooling1D\n",
    "\n",
    "def build_keras_model_2(x_train_vec, args):\n",
    "    \n",
    "    input_size = x_train_vec.shape[1]\n",
    "    \n",
    "    model = Sequential()\n",
    "    model.add(Embedding(input_size, args.num_units[0], input_shape=(input_size,)))\n",
    "    model.add(Conv1D(filters=32, kernel_size=3, padding='same', activation='relu'))\n",
    "    model.add(MaxPooling1D(pool_size=2))\n",
    "    model.add(Dropout(args.dropout[0]))\n",
    "    model.add(LSTM(100))\n",
    "    model.add(Dropout(args.dropout[0]))\n",
    "    model.add(Dense(2, activation='softmax'))\n",
    "    \n",
    "    model.compile(loss='categorical_crossentropy', optimizer='adam', metrics=['accuracy'])\n",
    "\n",
    "    \n",
    "    # Show model info on screen\n",
    "    print_message('MODEL 3:', args )\n",
    "    print_message( model.summary(), args )\n",
    "\n",
    "    return model\n"
   ]
  },
  {
   "cell_type": "markdown",
   "metadata": {},
   "source": [
    "### Model 3:"
   ]
  },
  {
   "cell_type": "code",
   "execution_count": 23,
   "metadata": {
    "ExecuteTime": {
     "end_time": "2018-09-22T04:09:04.415521Z",
     "start_time": "2018-09-22T04:09:04.388283Z"
    }
   },
   "outputs": [],
   "source": [
    "def build_keras_model_3(x_train_vec, args):\n",
    "    \n",
    "    input_size = x_train_vec.shape[1]\n",
    "       \n",
    "    model = Sequential()\n",
    "    model.add(Dense(args.num_units[0], input_shape=(input_size,)))    \n",
    "    model.add(Activation('relu'))\n",
    "\n",
    "    model.add(Dropout(args.dropout[0]))    \n",
    "\n",
    "    model.add(Dense( int(input_size/2) ))    \n",
    "    model.add(Activation('relu'))\n",
    "\n",
    "    model.add(Dropout(args.dropout[0]))       \n",
    "\n",
    "    model.add(Dense( int(input_size/4) ))    \n",
    "    model.add(Activation('relu'))\n",
    "\n",
    "    model.add(Dropout(args.dropout[0]))\n",
    "\n",
    "    model.add(Dense(2))\n",
    "    model.add(Activation('softmax'))   \n",
    "\n",
    "    model.compile(loss='categorical_crossentropy', optimizer='adam', metrics=['accuracy'])\n",
    "    \n",
    "    # Show model info on screen\n",
    "    print_message('MODEL 3:', args )\n",
    "    print_message( model.summary(), args )\n",
    "\n",
    "    return model\n"
   ]
  },
  {
   "cell_type": "markdown",
   "metadata": {},
   "source": [
    "## 2.4. Entrenamiento del Modelo"
   ]
  },
  {
   "cell_type": "code",
   "execution_count": 14,
   "metadata": {},
   "outputs": [],
   "source": [
    "def plot_model_history(model_history):\n",
    "   fig, axs = plt.subplots(1,2,figsize=(15,5))\n",
    "   # summarize history for accuracy\n",
    "   axs[0].plot(range(1,len(model_history.history['acc'])+1),model_history.history['acc'])\n",
    "   axs[0].plot(range(1,len(model_history.history['val_acc'])+1),model_history.history['val_acc'])\n",
    "   axs[0].set_title('Model Accuracy')\n",
    "   axs[0].set_ylabel('Accuracy')\n",
    "   axs[0].set_xlabel('Epoch')\n",
    "   axs[0].set_xticks(np.arange(1,len(model_history.history['acc'])+1),len(model_history.history['acc'])/10)\n",
    "   axs[0].legend(['train', 'val'], loc='best')\n",
    "   # summarize history for loss\n",
    "   axs[1].plot(range(1,len(model_history.history['loss'])+1),model_history.history['loss'])\n",
    "   axs[1].plot(range(1,len(model_history.history['val_loss'])+1),model_history.history['val_loss'])\n",
    "   axs[1].set_title('Model Loss')\n",
    "   axs[1].set_ylabel('Loss')\n",
    "   axs[1].set_xlabel('Epoch')\n",
    "   axs[1].set_xticks(np.arange(1,len(model_history.history['loss'])+1),len(model_history.history['loss'])/10)\n",
    "   axs[1].legend(['train', 'val'], loc='best')\n",
    "   plt.show()\n",
    "   \n"
   ]
  },
  {
   "cell_type": "markdown",
   "metadata": {},
   "source": [
    "### 2.4.1. Main:\n",
    "\n",
    "Función principal que llama a las rutinas anteriores para realizar el entrenamiento. \n",
    "\n",
    "__Responde al punto:__\n",
    "\n",
    "_2. Construir un pipeline de clasificación con un modelo Keras NLP._"
   ]
  },
  {
   "cell_type": "code",
   "execution_count": 15,
   "metadata": {
    "ExecuteTime": {
     "end_time": "2018-09-22T03:45:04.854652Z",
     "start_time": "2018-09-22T03:45:04.743319Z"
    }
   },
   "outputs": [],
   "source": [
    "from keras.utils import to_categorical\n",
    "\n",
    "def main():\n",
    "\n",
    "    USE_CATEGORICAL = True\n",
    "    \n",
    "    experiment_number = datetime.datetime.now().strftime(\"%Y%m%d%H%M%S\")\n",
    "    \n",
    "    args = read_args()\n",
    "    \n",
    "    print_new_process('START:', args)\n",
    "    \n",
    "    # Configuramos la semilla aleatoria por reproducibilidad\n",
    "    np.random.seed(args.random_seed)\n",
    "    \n",
    "    # Cargamos el dataset\n",
    "    x_train_vec, x_test_vec, y_train, y_test_orginal = load_dataset(args)\n",
    "\n",
    "    # TODO 2: Convert the labels to categorical\n",
    "    if (USE_CATEGORICAL):\n",
    "        num_classes = 2 \n",
    "        #y_train_cat = np_utils.to_categorical(y_train, num_classes)    \n",
    "        #y_test_cat = np_utils.to_categorical(y_test_orginal, num_classes)    \n",
    "        y_train_cat = to_categorical(y_train)    \n",
    "        y_test_cat = to_categorical(y_test_orginal)    \n",
    "\n",
    "    else:\n",
    "        y_train_cat = y_train    \n",
    "        y_test_cat = y_test_orginal    \n",
    "\n",
    "    \n",
    "    \n",
    "    print_new_process('Build Model:', args )\n",
    "    # TODO 3: Build the Keras model\n",
    "    switcher = {\n",
    "        1: build_keras_model_1,\n",
    "        2: build_keras_model_2,\n",
    "        3: build_keras_model_3,\n",
    "    }\n",
    "    # Get the function from switcher dictionary\n",
    "    model_builder = switcher.get(args.model, lambda: \"nothing\")\n",
    "    \n",
    "    model = model_builder(x_train_vec, args)\n",
    "    \n",
    "    # TODO 4: Fit the model    \n",
    "    print_new_process('Fit:', args)\n",
    "    history = model.fit(x_train_vec, y_train_cat,\n",
    "                        batch_size=args.batch_size,\n",
    "                        epochs=args.epochs,\n",
    "                        shuffle=args.shuffle,\n",
    "                        verbose=1,\n",
    "                        validation_split=0.70\n",
    "             )\n",
    "    \n",
    "    # plot model history\n",
    "    plot_model_history(history)\n",
    "    \n",
    "\n",
    "    # TODO 5: Evaluate the model, calculating the metrics.\n",
    "    # Option 1: Use the model.evaluate() method. For this, the model must be\n",
    "    # already compiled with the metrics.\n",
    "    print_new_process('Predictions:',args)\n",
    "    predictions = history.model.predict_classes(x_test_vec, verbose=1)\n",
    "    \n",
    "    if args.verbose == 1:\n",
    "        display(str(list( predictions)))\n",
    "\n",
    "    print_new_process('Test:',args)\n",
    "    if args.verbose == 1:        \n",
    "        display(str(list(y_test_orginal)))\n",
    "    \n",
    "    print_new_process('Performance:',args)\n",
    "    score, accuracy = history.model.evaluate(x_test_vec, y_test_cat)\n",
    "    #score, accuracy = model.evaluate(x_train_vec, y_train_cat)\n",
    "\n",
    "    print_message('[score, accuracy]', args)\n",
    "    print_message([score, accuracy], args)\n",
    "\n",
    "    # Option 2: Use the model.predict() method and calculate the metrics using\n",
    "    # sklearn. We recommend this, because you can store the predictions if\n",
    "    # you need more analysis later. Also, if you calculate the metrics on a\n",
    "    # notebook, then you can compare multiple classifiers.\n",
    "    # predictions = ...\n",
    "    # performance = ...\n",
    "\n",
    "    # TODO 6: Save the results.    \n",
    "    parameters_path = 'results/parameters/'\n",
    "    if not os.path.exists(parameters_path):\n",
    "        os.makedirs(parameters_path)\n",
    "    predictions_path = 'results/predictions/'\n",
    "    if not os.path.exists(predictions_path):\n",
    "        os.makedirs(predictions_path)\n",
    "\n",
    "    parameters_filename = 'results/parameters/parameters_{0}_acc_{1:.6f}.csv'.format(experiment_number, accuracy)\n",
    "    print_new_process('Saving parameters: {}'.format(parameters_filename),args)  \n",
    "    \n",
    "    parameters_df = pd.DataFrame(columns=['Parameter','Value'])\n",
    "    for k,v in sorted(vars(args).items()):\n",
    "        row = pd.Series([str(k), str(v)], index=['Parameter', 'Value'])\n",
    "        parameters_df = parameters_df.append(row,ignore_index=True)\n",
    "    parameters_df.to_csv(parameters_filename, index=False )\n",
    "    \n",
    "    predictions_filename = 'results/predictions/predictions_{0}_acc_{1:.6f}.csv'.format(experiment_number, accuracy)\n",
    "    print_new_process('Saving predictions: {}'.format(predictions_filename),args)  \n",
    "    predictions_df = pd.DataFrame(y_test_orginal, columns=['true_label'])\n",
    "    predictions_df.loc[:, 'predicted'] = predictions\n",
    "    predictions_df.to_csv(predictions_filename, index=False)\n",
    "    \n",
    "    print_message('Done.',args)    \n",
    "    print_end('STOP.',args)    \n"
   ]
  },
  {
   "cell_type": "markdown",
   "metadata": {},
   "source": [
    "<br/>"
   ]
  },
  {
   "cell_type": "markdown",
   "metadata": {},
   "source": [
    "### 2.4.2. Ejecución del modelo:\n",
    "\n",
    "__Responde al punto:__\n",
    "\n",
    "_3. Entrenar uno o varios modelos (con dos o tres es suficiente, veremos más de esto en el práctico 2). Evaluar los modelos en el conjunto de test._\n"
   ]
  },
  {
   "cell_type": "markdown",
   "metadata": {
    "hideCode": false
   },
   "source": [
    "Ejecutamos una prueba de main para poder visualizar que el funcionamiento sea adecuado:"
   ]
  },
  {
   "cell_type": "code",
   "execution_count": 16,
   "metadata": {},
   "outputs": [
    {
     "name": "stdout",
     "output_type": "stream",
     "text": [
      "2018-12-11 22:56:45 ------------------------------------------------------------------------\n",
      "2018-12-11 22:56:45 - START:\n",
      "2018-12-11 22:56:45 ------------------------------------------------------------------------\n",
      "2018-12-11 22:56:45 - Load and vectorize Data:\n",
      "2018-12-11 22:56:45 - Training samples 1500 (1500), test_samples 500 (500)\n"
     ]
    },
    {
     "name": "stderr",
     "output_type": "stream",
     "text": [
      "/Users/mgualpa/anaconda3/envs/DataScience/lib/python3.6/site-packages/sklearn/feature_extraction/text.py:286: UserWarning: Your stop_words may be inconsistent with your preprocessing. Tokenizing the stop words generated tokens [\"'d\", \"'s\", 'abov', 'ani', 'becaus', 'befor', 'could', 'doe', 'dure', 'might', 'must', \"n't\", 'need', 'onc', 'onli', 'ourselv', 'sha', 'themselv', 'veri', 'whi', 'wo', 'would', 'yourselv'] not in stop_words.\n",
      "  sorted(inconsistent))\n"
     ]
    },
    {
     "name": "stdout",
     "output_type": "stream",
     "text": [
      "2018-12-11 22:57:20 - x_train_vec - type: <class 'numpy.ndarray'>, shape:(1500, 3877)\n",
      "2018-12-11 22:57:20 - x_test_vec - type: <class 'numpy.ndarray'>, shape:(500, 3877)\n",
      "total detected features 3877\n",
      "vectorizer TfidfVectorizer(analyzer='word', binary=False, decode_error='strict',\n",
      "        dtype=<class 'numpy.float64'>, encoding='utf-8', input='content',\n",
      "        lowercase=True, max_df=0.97, max_features=None, min_df=0.01,\n",
      "        ngram_range=(1, 1), norm='l2', preprocessor=None, smooth_idf=True,\n",
      "        stop_words={'there', 'me', \"you're\", 'has', 'under', 'a', \"aren't\", 'don', 'them', 'is', 'mustn', 'into', 'themselves', 'she', 'to', 'll', 'for', 'because', 'few', 'haven', 'your', 'with', 'herself', 'aren', 'have', 'such', 'they', 'am', 'and', 'own', \"don't\", 'ourselves', \"hasn't\", 'o', 'i', 'her',...', 'any', \"you've\", 're', 'won', \"that'll\", 'from', 'will', 'yours', 'him', 'very', \"won't\", 'once'},\n",
      "        strip_accents='ascii', sublinear_tf=False,\n",
      "        token_pattern='(?u)\\\\b\\\\w\\\\w+\\\\b',\n",
      "        tokenizer=<function tokenize_and_stem at 0x1a2387d2f0>,\n",
      "        use_idf=True, vocabulary=None)\n",
      "2018-12-11 22:57:20 ------------------------------------------------------------------------\n",
      "2018-12-11 22:57:20 - Build Model:\n",
      "2018-12-11 22:57:20 - MODEL 1:\n",
      "_________________________________________________________________\n",
      "Layer (type)                 Output Shape              Param #   \n",
      "=================================================================\n",
      "dense_1 (Dense)              (None, 16)                62048     \n",
      "_________________________________________________________________\n",
      "activation_1 (Activation)    (None, 16)                0         \n",
      "_________________________________________________________________\n",
      "dropout_1 (Dropout)          (None, 16)                0         \n",
      "_________________________________________________________________\n",
      "dense_2 (Dense)              (None, 2)                 34        \n",
      "_________________________________________________________________\n",
      "activation_2 (Activation)    (None, 2)                 0         \n",
      "=================================================================\n",
      "Total params: 62,082\n",
      "Trainable params: 62,082\n",
      "Non-trainable params: 0\n",
      "_________________________________________________________________\n",
      "2018-12-11 22:57:20 - None\n",
      "2018-12-11 22:57:20 ------------------------------------------------------------------------\n",
      "2018-12-11 22:57:20 - Fit:\n",
      "Train on 450 samples, validate on 1050 samples\n",
      "Epoch 1/30\n",
      "450/450 [==============================] - 0s 611us/step - loss: 0.6905 - acc: 0.5044 - val_loss: 0.6721 - val_acc: 0.7133\n",
      "Epoch 2/30\n",
      "450/450 [==============================] - 0s 113us/step - loss: 0.6162 - acc: 0.9222 - val_loss: 0.6399 - val_acc: 0.7295\n",
      "Epoch 3/30\n",
      "450/450 [==============================] - 0s 114us/step - loss: 0.5450 - acc: 0.9222 - val_loss: 0.6176 - val_acc: 0.7657\n",
      "Epoch 4/30\n",
      "450/450 [==============================] - 0s 117us/step - loss: 0.4928 - acc: 0.9489 - val_loss: 0.6021 - val_acc: 0.7657\n",
      "Epoch 5/30\n",
      "450/450 [==============================] - 0s 118us/step - loss: 0.4443 - acc: 0.9489 - val_loss: 0.5884 - val_acc: 0.7667\n",
      "Epoch 6/30\n",
      "450/450 [==============================] - 0s 121us/step - loss: 0.4033 - acc: 0.9622 - val_loss: 0.5771 - val_acc: 0.7648\n",
      "Epoch 7/30\n",
      "450/450 [==============================] - 0s 121us/step - loss: 0.3713 - acc: 0.9733 - val_loss: 0.5673 - val_acc: 0.7695\n",
      "Epoch 8/30\n",
      "450/450 [==============================] - 0s 114us/step - loss: 0.3529 - acc: 0.9733 - val_loss: 0.5591 - val_acc: 0.7657\n",
      "Epoch 9/30\n",
      "450/450 [==============================] - 0s 114us/step - loss: 0.3313 - acc: 0.9756 - val_loss: 0.5524 - val_acc: 0.7676\n",
      "Epoch 10/30\n",
      "450/450 [==============================] - 0s 114us/step - loss: 0.3057 - acc: 0.9756 - val_loss: 0.5456 - val_acc: 0.7676\n",
      "Epoch 11/30\n",
      "450/450 [==============================] - 0s 113us/step - loss: 0.2916 - acc: 0.9822 - val_loss: 0.5401 - val_acc: 0.7657\n",
      "Epoch 12/30\n",
      "450/450 [==============================] - 0s 115us/step - loss: 0.2741 - acc: 0.9867 - val_loss: 0.5352 - val_acc: 0.7667\n",
      "Epoch 13/30\n",
      "450/450 [==============================] - 0s 114us/step - loss: 0.2544 - acc: 0.9911 - val_loss: 0.5306 - val_acc: 0.7648\n",
      "Epoch 14/30\n",
      "450/450 [==============================] - 0s 122us/step - loss: 0.2434 - acc: 0.9911 - val_loss: 0.5264 - val_acc: 0.7629\n",
      "Epoch 15/30\n",
      "450/450 [==============================] - 0s 123us/step - loss: 0.2311 - acc: 0.9933 - val_loss: 0.5229 - val_acc: 0.7629\n",
      "Epoch 16/30\n",
      "450/450 [==============================] - 0s 122us/step - loss: 0.2171 - acc: 0.9956 - val_loss: 0.5193 - val_acc: 0.7648\n",
      "Epoch 17/30\n",
      "450/450 [==============================] - 0s 115us/step - loss: 0.2106 - acc: 0.9867 - val_loss: 0.5160 - val_acc: 0.7648\n",
      "Epoch 18/30\n",
      "450/450 [==============================] - 0s 114us/step - loss: 0.2069 - acc: 0.9956 - val_loss: 0.5138 - val_acc: 0.7638\n",
      "Epoch 19/30\n",
      "450/450 [==============================] - 0s 115us/step - loss: 0.1858 - acc: 0.9978 - val_loss: 0.5108 - val_acc: 0.7629\n",
      "Epoch 20/30\n",
      "450/450 [==============================] - 0s 114us/step - loss: 0.1897 - acc: 0.9978 - val_loss: 0.5089 - val_acc: 0.7629\n",
      "Epoch 21/30\n",
      "450/450 [==============================] - 0s 123us/step - loss: 0.1822 - acc: 0.9956 - val_loss: 0.5065 - val_acc: 0.7619\n",
      "Epoch 22/30\n",
      "450/450 [==============================] - 0s 119us/step - loss: 0.1748 - acc: 0.9978 - val_loss: 0.5043 - val_acc: 0.7610\n",
      "Epoch 23/30\n",
      "450/450 [==============================] - 0s 123us/step - loss: 0.1651 - acc: 0.9978 - val_loss: 0.5025 - val_acc: 0.7600\n",
      "Epoch 24/30\n",
      "450/450 [==============================] - 0s 119us/step - loss: 0.1555 - acc: 0.9978 - val_loss: 0.5013 - val_acc: 0.7590\n",
      "Epoch 25/30\n",
      "450/450 [==============================] - 0s 115us/step - loss: 0.1530 - acc: 1.0000 - val_loss: 0.4995 - val_acc: 0.7571\n",
      "Epoch 26/30\n",
      "450/450 [==============================] - 0s 125us/step - loss: 0.1428 - acc: 1.0000 - val_loss: 0.4980 - val_acc: 0.7581\n",
      "Epoch 27/30\n",
      "450/450 [==============================] - 0s 124us/step - loss: 0.1429 - acc: 0.9978 - val_loss: 0.4969 - val_acc: 0.7610\n",
      "Epoch 28/30\n",
      "450/450 [==============================] - 0s 121us/step - loss: 0.1390 - acc: 0.9956 - val_loss: 0.4956 - val_acc: 0.7619\n",
      "Epoch 29/30\n",
      "450/450 [==============================] - 0s 142us/step - loss: 0.1304 - acc: 0.9978 - val_loss: 0.4939 - val_acc: 0.7648\n",
      "Epoch 30/30\n",
      "450/450 [==============================] - 0s 118us/step - loss: 0.1254 - acc: 1.0000 - val_loss: 0.4932 - val_acc: 0.7610\n"
     ]
    },
    {
     "data": {
      "image/png": "[encoded data removed]",
      "text/plain": [
       "<Figure size 1080x360 with 2 Axes>"
      ]
     },
     "metadata": {
      "needs_background": "light"
     },
     "output_type": "display_data"
    },
    {
     "name": "stdout",
     "output_type": "stream",
     "text": [
      "2018-12-11 22:57:23 ------------------------------------------------------------------------\n",
      "2018-12-11 22:57:23 - Predictions:\n",
      "500/500 [==============================] - 0s 164us/step\n"
     ]
    },
    {
     "data": {
      "text/plain": [
       "'[1, 0, 1, 0, 0, 1, 0, 1, 0, 0, 0, 0, 1, 1, 1, 1, 1, 1, 0, 1, 1, 0, 0, 1, 0, 0, 1, 0, 0, 1, 0, 1, 0, 1, 0, 0, 1, 0, 0, 1, 1, 1, 1, 1, 1, 1, 0, 0, 0, 1, 0, 1, 0, 1, 0, 0, 0, 1, 0, 0, 1, 1, 1, 0, 0, 1, 1, 0, 1, 0, 1, 1, 1, 0, 1, 0, 1, 1, 0, 0, 1, 0, 1, 0, 0, 1, 0, 1, 1, 0, 1, 0, 1, 1, 1, 1, 0, 0, 0, 1, 0, 0, 1, 0, 1, 1, 1, 0, 0, 1, 1, 1, 0, 0, 1, 1, 0, 1, 0, 0, 0, 1, 1, 0, 0, 1, 0, 1, 1, 1, 1, 1, 0, 1, 1, 1, 1, 1, 1, 1, 1, 1, 1, 0, 0, 0, 0, 0, 0, 0, 0, 1, 0, 0, 0, 1, 0, 0, 1, 0, 1, 1, 0, 0, 1, 1, 0, 0, 0, 1, 0, 1, 0, 0, 0, 0, 1, 1, 0, 0, 1, 0, 1, 1, 1, 1, 0, 1, 1, 1, 1, 1, 1, 1, 1, 1, 1, 0, 1, 1, 1, 1, 1, 0, 1, 0, 1, 0, 0, 0, 0, 0, 1, 0, 1, 0, 1, 1, 0, 1, 1, 1, 0, 1, 1, 0, 0, 1, 0, 1, 1, 1, 1, 0, 1, 1, 1, 0, 1, 0, 1, 0, 1, 0, 1, 1, 1, 1, 1, 0, 1, 1, 0, 1, 1, 1, 0, 0, 0, 0, 1, 1, 0, 1, 0, 0, 1, 1, 0, 0, 1, 0, 1, 1, 0, 1, 0, 0, 0, 0, 0, 1, 1, 0, 1, 0, 0, 0, 0, 1, 1, 1, 1, 0, 1, 0, 0, 0, 1, 0, 1, 1, 1, 1, 0, 0, 1, 1, 0, 1, 1, 1, 0, 0, 0, 1, 1, 1, 0, 1, 0, 1, 0, 1, 0, 0, 0, 0, 0, 1, 1, 1, 1, 0, 1, 1, 1, 1, 1, 0, 1, 0, 1, 1, 1, 0, 0, 0, 0, 0, 0, 0, 0, 0, 1, 1, 1, 0, 1, 0, 1, 0, 1, 0, 0, 0, 0, 1, 1, 0, 1, 1, 1, 1, 0, 1, 1, 1, 0, 0, 1, 1, 1, 0, 1, 0, 1, 0, 0, 1, 1, 1, 1, 1, 1, 1, 0, 1, 1, 0, 1, 0, 1, 1, 1, 0, 1, 1, 1, 1, 1, 0, 1, 0, 1, 0, 1, 1, 1, 0, 0, 1, 0, 0, 1, 0, 1, 0, 0, 1, 1, 0, 0, 0, 1, 1, 0, 0, 0, 0, 0, 1, 1, 1, 1, 0, 1, 1, 0, 1, 0, 0, 0, 1, 1, 1, 0, 1, 0, 0, 0, 0, 1, 0, 0, 0, 1, 1, 0, 1, 1, 0, 1, 1, 0, 1, 0, 1, 1, 0, 0, 1, 0, 1, 0, 0, 0, 0, 0, 1, 1, 1, 1, 0, 0, 1, 0, 0, 0, 0]'"
      ]
     },
     "metadata": {},
     "output_type": "display_data"
    },
    {
     "name": "stdout",
     "output_type": "stream",
     "text": [
      "2018-12-11 22:57:23 ------------------------------------------------------------------------\n",
      "2018-12-11 22:57:23 - Test:\n"
     ]
    },
    {
     "data": {
      "text/plain": [
       "'[1, 0, 0, 0, 0, 1, 0, 1, 0, 0, 0, 0, 1, 1, 1, 1, 1, 1, 0, 0, 1, 0, 0, 1, 0, 0, 0, 0, 0, 1, 1, 1, 0, 1, 1, 0, 1, 0, 0, 1, 0, 1, 1, 1, 1, 1, 0, 0, 0, 1, 0, 1, 0, 1, 0, 1, 0, 1, 0, 0, 1, 1, 0, 0, 1, 1, 1, 0, 1, 0, 1, 1, 1, 0, 1, 0, 1, 1, 1, 0, 1, 0, 1, 1, 0, 0, 0, 1, 1, 0, 1, 0, 1, 1, 1, 0, 0, 0, 0, 1, 0, 0, 0, 1, 0, 0, 1, 0, 0, 1, 1, 1, 0, 0, 1, 1, 0, 1, 0, 0, 0, 1, 1, 0, 0, 1, 1, 1, 1, 1, 1, 1, 0, 1, 0, 1, 1, 1, 1, 1, 1, 1, 0, 0, 0, 0, 0, 0, 0, 1, 0, 0, 1, 1, 1, 1, 0, 0, 1, 0, 0, 1, 1, 1, 1, 1, 0, 0, 0, 1, 1, 1, 0, 0, 0, 0, 1, 1, 0, 0, 0, 0, 1, 1, 0, 0, 1, 0, 1, 1, 1, 1, 0, 1, 1, 1, 0, 0, 1, 1, 1, 0, 1, 1, 1, 0, 1, 0, 1, 0, 0, 1, 0, 0, 1, 0, 1, 1, 0, 1, 1, 1, 0, 1, 0, 0, 0, 1, 0, 1, 1, 1, 1, 0, 0, 1, 1, 0, 1, 1, 1, 0, 1, 1, 1, 1, 1, 1, 1, 0, 1, 1, 0, 0, 1, 1, 0, 1, 0, 0, 0, 1, 0, 1, 0, 0, 1, 0, 0, 0, 1, 0, 1, 1, 0, 0, 0, 0, 0, 0, 0, 1, 0, 0, 0, 0, 0, 0, 0, 1, 1, 1, 0, 0, 0, 0, 0, 0, 1, 1, 1, 1, 1, 1, 0, 0, 1, 1, 0, 1, 1, 1, 0, 1, 0, 0, 1, 1, 0, 0, 1, 0, 0, 0, 1, 0, 0, 0, 0, 1, 1, 1, 1, 0, 1, 0, 0, 1, 1, 0, 1, 0, 1, 0, 1, 0, 0, 0, 1, 0, 0, 0, 0, 0, 0, 1, 1, 0, 1, 0, 1, 0, 0, 0, 0, 0, 0, 1, 1, 0, 1, 1, 0, 1, 0, 1, 1, 1, 0, 0, 1, 1, 1, 0, 0, 0, 0, 0, 1, 1, 1, 1, 1, 0, 1, 1, 1, 1, 0, 0, 0, 0, 1, 1, 1, 0, 1, 1, 1, 1, 1, 0, 1, 0, 1, 0, 1, 1, 1, 0, 0, 0, 1, 1, 1, 0, 1, 0, 1, 1, 1, 0, 0, 0, 1, 0, 0, 1, 0, 0, 1, 1, 1, 0, 1, 0, 1, 1, 0, 1, 0, 0, 0, 0, 1, 1, 0, 1, 0, 1, 0, 0, 1, 0, 0, 0, 1, 0, 0, 1, 1, 0, 1, 1, 0, 0, 0, 0, 1, 1, 0, 1, 0, 1, 0, 0, 1, 0, 0, 1, 0, 1, 1, 0, 0, 1, 0, 1, 0, 0]'"
      ]
     },
     "metadata": {},
     "output_type": "display_data"
    },
    {
     "name": "stdout",
     "output_type": "stream",
     "text": [
      "2018-12-11 22:57:23 ------------------------------------------------------------------------\n",
      "2018-12-11 22:57:23 - Performance:\n",
      "500/500 [==============================] - 0s 47us/step\n",
      "2018-12-11 22:57:23 - [score, accuracy]\n",
      "2018-12-11 22:57:23 - [0.4693096518516541, 0.8140000009536743]\n",
      "2018-12-11 22:57:23 ------------------------------------------------------------------------\n",
      "2018-12-11 22:57:23 - Saving parameters: results/parameters/parameters_20181211225645_acc_0.814000.csv\n",
      "2018-12-11 22:57:23 ------------------------------------------------------------------------\n",
      "2018-12-11 22:57:23 - Saving predictions: results/predictions/predictions_20181211225645_acc_0.814000.csv\n",
      "2018-12-11 22:57:23 - Done.\n",
      "2018-12-11 22:57:23 ------------------------------------------------------------------------\n",
      "2018-12-11 22:57:23 - STOP.\n",
      "2018-12-11 22:57:23 ------------------------------------------------------------------------\n"
     ]
    }
   ],
   "source": [
    "# Cargamos argumentos de prueba\n",
    "arguments = ['--model=1',\n",
    "             '--max_features=6000',\n",
    "             '--num_units=16',\n",
    "             '--dropout=0.2',\n",
    "             '--batch_size=200',             \n",
    "             '--epochs=30',\n",
    "             '--shuffle=batch',\n",
    "             '--random_seed=10',\n",
    "             '--verbose=1'\n",
    "            ]\n",
    "\n",
    "# Ejecutamos el procedimiento principal\n",
    "main()"
   ]
  },
  {
   "cell_type": "code",
   "execution_count": 17,
   "metadata": {
    "ExecuteTime": {
     "end_time": "2018-09-22T04:10:46.640400Z",
     "start_time": "2018-09-22T04:09:09.824815Z"
    }
   },
   "outputs": [
    {
     "name": "stdout",
     "output_type": "stream",
     "text": [
      "2018-12-11 22:58:08 ------------------------------------------------------------------------\n",
      "2018-12-11 22:58:08 - START:\n",
      "2018-12-11 22:58:08 ------------------------------------------------------------------------\n",
      "2018-12-11 22:58:08 - Load and vectorize Data:\n",
      "2018-12-11 22:58:09 - Training samples 1500 (1500), test_samples 500 (500)\n"
     ]
    },
    {
     "name": "stderr",
     "output_type": "stream",
     "text": [
      "/Users/mgualpa/anaconda3/envs/DataScience/lib/python3.6/site-packages/sklearn/feature_extraction/text.py:286: UserWarning: Your stop_words may be inconsistent with your preprocessing. Tokenizing the stop words generated tokens [\"'d\", \"'s\", 'abov', 'ani', 'becaus', 'befor', 'could', 'doe', 'dure', 'might', 'must', \"n't\", 'need', 'onc', 'onli', 'ourselv', 'sha', 'themselv', 'veri', 'whi', 'wo', 'would', 'yourselv'] not in stop_words.\n",
      "  sorted(inconsistent))\n"
     ]
    },
    {
     "name": "stdout",
     "output_type": "stream",
     "text": [
      "2018-12-11 22:58:42 - x_train_vec - type: <class 'numpy.ndarray'>, shape:(1500, 3877)\n",
      "2018-12-11 22:58:42 - x_test_vec - type: <class 'numpy.ndarray'>, shape:(500, 3877)\n",
      "total detected features 3877\n",
      "vectorizer TfidfVectorizer(analyzer='word', binary=False, decode_error='strict',\n",
      "        dtype=<class 'numpy.float64'>, encoding='utf-8', input='content',\n",
      "        lowercase=True, max_df=0.97, max_features=None, min_df=0.01,\n",
      "        ngram_range=(1, 1), norm='l2', preprocessor=None, smooth_idf=True,\n",
      "        stop_words={'there', 'me', \"you're\", 'has', 'under', 'a', \"aren't\", 'don', 'them', 'is', 'mustn', 'into', 'themselves', 'she', 'to', 'll', 'for', 'because', 'few', 'haven', 'your', 'with', 'herself', 'aren', 'have', 'such', 'they', 'am', 'and', 'own', \"don't\", 'ourselves', \"hasn't\", 'o', 'i', 'her',...', 'any', \"you've\", 're', 'won', \"that'll\", 'from', 'will', 'yours', 'him', 'very', \"won't\", 'once'},\n",
      "        strip_accents='ascii', sublinear_tf=False,\n",
      "        token_pattern='(?u)\\\\b\\\\w\\\\w+\\\\b',\n",
      "        tokenizer=<function tokenize_and_stem at 0x1a2387d2f0>,\n",
      "        use_idf=True, vocabulary=None)\n",
      "2018-12-11 22:58:42 ------------------------------------------------------------------------\n",
      "2018-12-11 22:58:42 - Build Model:\n",
      "2018-12-11 22:58:43 - MODEL 3:\n",
      "_________________________________________________________________\n",
      "Layer (type)                 Output Shape              Param #   \n",
      "=================================================================\n",
      "embedding_1 (Embedding)      (None, 3877, 16)          62032     \n",
      "_________________________________________________________________\n",
      "conv1d_1 (Conv1D)            (None, 3877, 32)          1568      \n",
      "_________________________________________________________________\n",
      "max_pooling1d_1 (MaxPooling1 (None, 1938, 32)          0         \n",
      "_________________________________________________________________\n",
      "dropout_2 (Dropout)          (None, 1938, 32)          0         \n",
      "_________________________________________________________________\n",
      "lstm_1 (LSTM)                (None, 100)               53200     \n",
      "_________________________________________________________________\n",
      "dropout_3 (Dropout)          (None, 100)               0         \n",
      "_________________________________________________________________\n",
      "dense_3 (Dense)              (None, 2)                 202       \n",
      "=================================================================\n",
      "Total params: 117,002\n",
      "Trainable params: 117,002\n",
      "Non-trainable params: 0\n",
      "_________________________________________________________________\n",
      "2018-12-11 22:58:43 - None\n",
      "2018-12-11 22:58:43 ------------------------------------------------------------------------\n",
      "2018-12-11 22:58:43 - Fit:\n",
      "Train on 450 samples, validate on 1050 samples\n",
      "Epoch 1/30\n",
      "450/450 [==============================] - 30s 67ms/step - loss: 0.6933 - acc: 0.4822 - val_loss: 0.6932 - val_acc: 0.4981\n",
      "Epoch 2/30\n",
      "450/450 [==============================] - 23s 52ms/step - loss: 0.6935 - acc: 0.5067 - val_loss: 0.6933 - val_acc: 0.4981\n",
      "Epoch 3/30\n",
      "450/450 [==============================] - 23s 51ms/step - loss: 0.6933 - acc: 0.5044 - val_loss: 0.6933 - val_acc: 0.4981\n",
      "Epoch 4/30\n",
      "450/450 [==============================] - 26s 58ms/step - loss: 0.6934 - acc: 0.5044 - val_loss: 0.6934 - val_acc: 0.4981\n",
      "Epoch 5/30\n",
      "450/450 [==============================] - 27s 60ms/step - loss: 0.6935 - acc: 0.5044 - val_loss: 0.6933 - val_acc: 0.4981\n",
      "Epoch 6/30\n",
      "450/450 [==============================] - 25s 54ms/step - loss: 0.6933 - acc: 0.5044 - val_loss: 0.6933 - val_acc: 0.4981\n",
      "Epoch 7/30\n",
      "450/450 [==============================] - 24s 53ms/step - loss: 0.6929 - acc: 0.5044 - val_loss: 0.6933 - val_acc: 0.4981\n",
      "Epoch 8/30\n",
      "450/450 [==============================] - 24s 54ms/step - loss: 0.6931 - acc: 0.5044 - val_loss: 0.6933 - val_acc: 0.4981\n",
      "Epoch 9/30\n",
      "450/450 [==============================] - 24s 54ms/step - loss: 0.6935 - acc: 0.5044 - val_loss: 0.6933 - val_acc: 0.4981\n",
      "Epoch 10/30\n",
      "450/450 [==============================] - 24s 54ms/step - loss: 0.6935 - acc: 0.5044 - val_loss: 0.6933 - val_acc: 0.4981\n",
      "Epoch 11/30\n",
      "450/450 [==============================] - 24s 54ms/step - loss: 0.6933 - acc: 0.5044 - val_loss: 0.6934 - val_acc: 0.4981\n",
      "Epoch 12/30\n",
      "450/450 [==============================] - 23s 51ms/step - loss: 0.6932 - acc: 0.5044 - val_loss: 0.6933 - val_acc: 0.4981\n",
      "Epoch 13/30\n",
      "450/450 [==============================] - 23s 51ms/step - loss: 0.6934 - acc: 0.5044 - val_loss: 0.6933 - val_acc: 0.4981\n",
      "Epoch 14/30\n",
      "450/450 [==============================] - 24s 54ms/step - loss: 0.6930 - acc: 0.5044 - val_loss: 0.6933 - val_acc: 0.4981\n",
      "Epoch 15/30\n",
      "450/450 [==============================] - 26s 58ms/step - loss: 0.6932 - acc: 0.5044 - val_loss: 0.6933 - val_acc: 0.4981\n",
      "Epoch 16/30\n",
      "450/450 [==============================] - 27s 60ms/step - loss: 0.6934 - acc: 0.5044 - val_loss: 0.6933 - val_acc: 0.4981\n",
      "Epoch 17/30\n",
      "450/450 [==============================] - 25s 56ms/step - loss: 0.6932 - acc: 0.5044 - val_loss: 0.6933 - val_acc: 0.4981\n",
      "Epoch 18/30\n",
      "450/450 [==============================] - 23s 51ms/step - loss: 0.6933 - acc: 0.5044 - val_loss: 0.6933 - val_acc: 0.4981\n",
      "Epoch 19/30\n",
      "450/450 [==============================] - 23s 50ms/step - loss: 0.6933 - acc: 0.5044 - val_loss: 0.6933 - val_acc: 0.4981\n",
      "Epoch 20/30\n",
      "450/450 [==============================] - 23s 50ms/step - loss: 0.6932 - acc: 0.5044 - val_loss: 0.6933 - val_acc: 0.4981\n",
      "Epoch 21/30\n",
      "450/450 [==============================] - 22s 50ms/step - loss: 0.6931 - acc: 0.5044 - val_loss: 0.6933 - val_acc: 0.4981\n",
      "Epoch 22/30\n",
      "450/450 [==============================] - 23s 50ms/step - loss: 0.6935 - acc: 0.5044 - val_loss: 0.6934 - val_acc: 0.4981\n",
      "Epoch 23/30\n",
      "450/450 [==============================] - 24s 53ms/step - loss: 0.6930 - acc: 0.5044 - val_loss: 0.6934 - val_acc: 0.4981\n",
      "Epoch 24/30\n",
      "450/450 [==============================] - 23s 52ms/step - loss: 0.6933 - acc: 0.5044 - val_loss: 0.6934 - val_acc: 0.4981\n",
      "Epoch 25/30\n",
      "450/450 [==============================] - 24s 52ms/step - loss: 0.6933 - acc: 0.5044 - val_loss: 0.6934 - val_acc: 0.4981\n",
      "Epoch 26/30\n",
      "450/450 [==============================] - 24s 53ms/step - loss: 0.6929 - acc: 0.5044 - val_loss: 0.6934 - val_acc: 0.4981\n",
      "Epoch 27/30\n",
      "450/450 [==============================] - 23s 51ms/step - loss: 0.6931 - acc: 0.5044 - val_loss: 0.6934 - val_acc: 0.4981\n",
      "Epoch 28/30\n",
      "450/450 [==============================] - 25s 57ms/step - loss: 0.6933 - acc: 0.5044 - val_loss: 0.6933 - val_acc: 0.4981\n",
      "Epoch 29/30\n",
      "450/450 [==============================] - 23s 51ms/step - loss: 0.6932 - acc: 0.5044 - val_loss: 0.6933 - val_acc: 0.4981\n",
      "Epoch 30/30\n",
      "450/450 [==============================] - 25s 56ms/step - loss: 0.6931 - acc: 0.5044 - val_loss: 0.6934 - val_acc: 0.4981\n"
     ]
    },
    {
     "data": {
      "image/png": "[encoded data removed]",
      "text/plain": [
       "<Figure size 1080x360 with 2 Axes>"
      ]
     },
     "metadata": {
      "needs_background": "light"
     },
     "output_type": "display_data"
    },
    {
     "name": "stdout",
     "output_type": "stream",
     "text": [
      "2018-12-11 23:10:53 ------------------------------------------------------------------------\n",
      "2018-12-11 23:10:53 - Predictions:\n",
      "500/500 [==============================] - 8s 15ms/step\n"
     ]
    },
    {
     "data": {
      "text/plain": [
       "'[0, 0, 0, 0, 0, 0, 0, 0, 0, 0, 0, 0, 0, 0, 0, 0, 0, 0, 0, 0, 0, 0, 0, 0, 0, 0, 0, 0, 0, 0, 0, 0, 0, 0, 0, 0, 0, 0, 0, 0, 0, 0, 0, 0, 0, 0, 0, 0, 0, 0, 0, 0, 0, 0, 0, 0, 0, 0, 0, 0, 0, 0, 0, 0, 0, 0, 0, 0, 0, 0, 0, 0, 0, 0, 0, 0, 0, 0, 0, 0, 0, 0, 0, 0, 0, 0, 0, 0, 0, 0, 0, 0, 0, 0, 0, 0, 0, 0, 0, 0, 0, 0, 0, 0, 0, 0, 0, 0, 0, 0, 0, 0, 0, 0, 0, 0, 0, 0, 0, 0, 0, 0, 0, 0, 0, 0, 0, 0, 0, 0, 0, 0, 0, 0, 0, 0, 0, 0, 0, 0, 0, 0, 0, 0, 0, 0, 0, 0, 0, 0, 0, 0, 0, 0, 0, 0, 0, 0, 0, 0, 0, 0, 0, 0, 0, 0, 0, 0, 0, 0, 0, 0, 0, 0, 0, 0, 0, 0, 0, 0, 0, 0, 0, 0, 0, 0, 0, 0, 0, 0, 0, 0, 0, 0, 0, 0, 0, 0, 0, 0, 0, 0, 0, 0, 0, 0, 0, 0, 0, 0, 0, 0, 0, 0, 0, 0, 0, 0, 0, 0, 0, 0, 0, 0, 0, 0, 0, 0, 0, 0, 0, 0, 0, 0, 0, 0, 0, 0, 0, 0, 0, 0, 0, 0, 0, 0, 0, 0, 0, 0, 0, 0, 0, 0, 0, 0, 0, 0, 0, 0, 0, 0, 0, 0, 0, 0, 0, 0, 0, 0, 0, 0, 0, 0, 0, 0, 0, 0, 0, 0, 0, 0, 0, 0, 0, 0, 0, 0, 0, 0, 0, 0, 0, 0, 0, 0, 0, 0, 0, 0, 0, 0, 0, 0, 0, 0, 0, 0, 0, 0, 0, 0, 0, 0, 0, 0, 0, 0, 0, 0, 0, 0, 0, 0, 0, 0, 0, 0, 0, 0, 0, 0, 0, 0, 0, 0, 0, 0, 0, 0, 0, 0, 0, 0, 0, 0, 0, 0, 0, 0, 0, 0, 0, 0, 0, 0, 0, 0, 0, 0, 0, 0, 0, 0, 0, 0, 0, 0, 0, 0, 0, 0, 0, 0, 0, 0, 0, 0, 0, 0, 0, 0, 0, 0, 0, 0, 0, 0, 0, 0, 0, 0, 0, 0, 0, 0, 0, 0, 0, 0, 0, 0, 0, 0, 0, 0, 0, 0, 0, 0, 0, 0, 0, 0, 0, 0, 0, 0, 0, 0, 0, 0, 0, 0, 0, 0, 0, 0, 0, 0, 0, 0, 0, 0, 0, 0, 0, 0, 0, 0, 0, 0, 0, 0, 0, 0, 0, 0, 0, 0, 0, 0, 0, 0, 0, 0, 0, 0, 0, 0, 0, 0, 0, 0, 0, 0, 0, 0, 0, 0, 0, 0, 0, 0, 0, 0, 0, 0, 0, 0, 0, 0, 0, 0, 0, 0, 0, 0, 0, 0, 0, 0, 0, 0, 0, 0, 0, 0, 0, 0]'"
      ]
     },
     "metadata": {},
     "output_type": "display_data"
    },
    {
     "name": "stdout",
     "output_type": "stream",
     "text": [
      "2018-12-11 23:11:01 ------------------------------------------------------------------------\n",
      "2018-12-11 23:11:01 - Test:\n"
     ]
    },
    {
     "data": {
      "text/plain": [
       "'[1, 0, 0, 0, 0, 1, 0, 1, 0, 0, 0, 0, 1, 1, 1, 1, 1, 1, 0, 0, 1, 0, 0, 1, 0, 0, 0, 0, 0, 1, 1, 1, 0, 1, 1, 0, 1, 0, 0, 1, 0, 1, 1, 1, 1, 1, 0, 0, 0, 1, 0, 1, 0, 1, 0, 1, 0, 1, 0, 0, 1, 1, 0, 0, 1, 1, 1, 0, 1, 0, 1, 1, 1, 0, 1, 0, 1, 1, 1, 0, 1, 0, 1, 1, 0, 0, 0, 1, 1, 0, 1, 0, 1, 1, 1, 0, 0, 0, 0, 1, 0, 0, 0, 1, 0, 0, 1, 0, 0, 1, 1, 1, 0, 0, 1, 1, 0, 1, 0, 0, 0, 1, 1, 0, 0, 1, 1, 1, 1, 1, 1, 1, 0, 1, 0, 1, 1, 1, 1, 1, 1, 1, 0, 0, 0, 0, 0, 0, 0, 1, 0, 0, 1, 1, 1, 1, 0, 0, 1, 0, 0, 1, 1, 1, 1, 1, 0, 0, 0, 1, 1, 1, 0, 0, 0, 0, 1, 1, 0, 0, 0, 0, 1, 1, 0, 0, 1, 0, 1, 1, 1, 1, 0, 1, 1, 1, 0, 0, 1, 1, 1, 0, 1, 1, 1, 0, 1, 0, 1, 0, 0, 1, 0, 0, 1, 0, 1, 1, 0, 1, 1, 1, 0, 1, 0, 0, 0, 1, 0, 1, 1, 1, 1, 0, 0, 1, 1, 0, 1, 1, 1, 0, 1, 1, 1, 1, 1, 1, 1, 0, 1, 1, 0, 0, 1, 1, 0, 1, 0, 0, 0, 1, 0, 1, 0, 0, 1, 0, 0, 0, 1, 0, 1, 1, 0, 0, 0, 0, 0, 0, 0, 1, 0, 0, 0, 0, 0, 0, 0, 1, 1, 1, 0, 0, 0, 0, 0, 0, 1, 1, 1, 1, 1, 1, 0, 0, 1, 1, 0, 1, 1, 1, 0, 1, 0, 0, 1, 1, 0, 0, 1, 0, 0, 0, 1, 0, 0, 0, 0, 1, 1, 1, 1, 0, 1, 0, 0, 1, 1, 0, 1, 0, 1, 0, 1, 0, 0, 0, 1, 0, 0, 0, 0, 0, 0, 1, 1, 0, 1, 0, 1, 0, 0, 0, 0, 0, 0, 1, 1, 0, 1, 1, 0, 1, 0, 1, 1, 1, 0, 0, 1, 1, 1, 0, 0, 0, 0, 0, 1, 1, 1, 1, 1, 0, 1, 1, 1, 1, 0, 0, 0, 0, 1, 1, 1, 0, 1, 1, 1, 1, 1, 0, 1, 0, 1, 0, 1, 1, 1, 0, 0, 0, 1, 1, 1, 0, 1, 0, 1, 1, 1, 0, 0, 0, 1, 0, 0, 1, 0, 0, 1, 1, 1, 0, 1, 0, 1, 1, 0, 1, 0, 0, 0, 0, 1, 1, 0, 1, 0, 1, 0, 0, 1, 0, 0, 0, 1, 0, 0, 1, 1, 0, 1, 1, 0, 0, 0, 0, 1, 1, 0, 1, 0, 1, 0, 0, 1, 0, 0, 1, 0, 1, 1, 0, 0, 1, 0, 1, 0, 0]'"
      ]
     },
     "metadata": {},
     "output_type": "display_data"
    },
    {
     "name": "stdout",
     "output_type": "stream",
     "text": [
      "2018-12-11 23:11:01 ------------------------------------------------------------------------\n",
      "2018-12-11 23:11:01 - Performance:\n",
      "500/500 [==============================] - 7s 14ms/step\n",
      "2018-12-11 23:11:07 - [score, accuracy]\n",
      "2018-12-11 23:11:07 - [0.6932886075973511, 0.5000000009536744]\n",
      "2018-12-11 23:11:07 ------------------------------------------------------------------------\n",
      "2018-12-11 23:11:07 - Saving parameters: results/parameters/parameters_20181211225808_acc_0.500000.csv\n",
      "2018-12-11 23:11:08 ------------------------------------------------------------------------\n",
      "2018-12-11 23:11:08 - Saving predictions: results/predictions/predictions_20181211225808_acc_0.500000.csv\n",
      "2018-12-11 23:11:08 - Done.\n",
      "2018-12-11 23:11:08 ------------------------------------------------------------------------\n",
      "2018-12-11 23:11:08 - STOP.\n",
      "2018-12-11 23:11:08 ------------------------------------------------------------------------\n"
     ]
    }
   ],
   "source": [
    "# Cargamos argumentos de prueba\n",
    "arguments = ['--model=2',\n",
    "             '--max_features=6000',\n",
    "             '--num_units=16',\n",
    "             '--dropout=0.2',\n",
    "             '--batch_size=200',             \n",
    "             '--epochs=30',\n",
    "             '--shuffle=batch',\n",
    "             '--random_seed=10',\n",
    "             '--verbose=1'\n",
    "            ]\n",
    "\n",
    "# Ejecutamos el procedimiento principal\n",
    "main()"
   ]
  },
  {
   "cell_type": "code",
   "execution_count": 26,
   "metadata": {},
   "outputs": [
    {
     "name": "stdout",
     "output_type": "stream",
     "text": [
      "2018-12-11 23:23:10 ------------------------------------------------------------------------\n",
      "2018-12-11 23:23:10 - START:\n",
      "2018-12-11 23:23:10 ------------------------------------------------------------------------\n",
      "2018-12-11 23:23:10 - Load and vectorize Data:\n",
      "2018-12-11 23:23:10 - Training samples 1500 (1500), test_samples 500 (500)\n"
     ]
    },
    {
     "name": "stderr",
     "output_type": "stream",
     "text": [
      "/Users/mgualpa/anaconda3/envs/DataScience/lib/python3.6/site-packages/sklearn/feature_extraction/text.py:286: UserWarning: Your stop_words may be inconsistent with your preprocessing. Tokenizing the stop words generated tokens [\"'d\", \"'s\", 'abov', 'ani', 'becaus', 'befor', 'could', 'doe', 'dure', 'might', 'must', \"n't\", 'need', 'onc', 'onli', 'ourselv', 'sha', 'themselv', 'veri', 'whi', 'wo', 'would', 'yourselv'] not in stop_words.\n",
      "  sorted(inconsistent))\n"
     ]
    },
    {
     "name": "stdout",
     "output_type": "stream",
     "text": [
      "2018-12-11 23:23:44 - x_train_vec - type: <class 'numpy.ndarray'>, shape:(1500, 3877)\n",
      "2018-12-11 23:23:44 - x_test_vec - type: <class 'numpy.ndarray'>, shape:(500, 3877)\n",
      "total detected features 3877\n",
      "vectorizer TfidfVectorizer(analyzer='word', binary=False, decode_error='strict',\n",
      "        dtype=<class 'numpy.float64'>, encoding='utf-8', input='content',\n",
      "        lowercase=True, max_df=0.97, max_features=None, min_df=0.01,\n",
      "        ngram_range=(1, 1), norm='l2', preprocessor=None, smooth_idf=True,\n",
      "        stop_words={'there', 'me', \"you're\", 'has', 'under', 'a', \"aren't\", 'don', 'them', 'is', 'mustn', 'into', 'themselves', 'she', 'to', 'll', 'for', 'because', 'few', 'haven', 'your', 'with', 'herself', 'aren', 'have', 'such', 'they', 'am', 'and', 'own', \"don't\", 'ourselves', \"hasn't\", 'o', 'i', 'her',...', 'any', \"you've\", 're', 'won', \"that'll\", 'from', 'will', 'yours', 'him', 'very', \"won't\", 'once'},\n",
      "        strip_accents='ascii', sublinear_tf=False,\n",
      "        token_pattern='(?u)\\\\b\\\\w\\\\w+\\\\b',\n",
      "        tokenizer=<function tokenize_and_stem at 0x1a2387d2f0>,\n",
      "        use_idf=True, vocabulary=None)\n",
      "2018-12-11 23:23:44 ------------------------------------------------------------------------\n",
      "2018-12-11 23:23:44 - Build Model:\n",
      "2018-12-11 23:23:44 - MODEL 3:\n",
      "_________________________________________________________________\n",
      "Layer (type)                 Output Shape              Param #   \n",
      "=================================================================\n",
      "dense_21 (Dense)             (None, 16)                62048     \n",
      "_________________________________________________________________\n",
      "activation_11 (Activation)   (None, 16)                0         \n",
      "_________________________________________________________________\n",
      "dropout_16 (Dropout)         (None, 16)                0         \n",
      "_________________________________________________________________\n",
      "dense_22 (Dense)             (None, 1938)              32946     \n",
      "_________________________________________________________________\n",
      "activation_12 (Activation)   (None, 1938)              0         \n",
      "_________________________________________________________________\n",
      "dropout_17 (Dropout)         (None, 1938)              0         \n",
      "_________________________________________________________________\n",
      "dense_23 (Dense)             (None, 969)               1878891   \n",
      "_________________________________________________________________\n",
      "activation_13 (Activation)   (None, 969)               0         \n",
      "_________________________________________________________________\n",
      "dropout_18 (Dropout)         (None, 969)               0         \n",
      "_________________________________________________________________\n",
      "dense_24 (Dense)             (None, 2)                 1940      \n",
      "_________________________________________________________________\n",
      "activation_14 (Activation)   (None, 2)                 0         \n",
      "=================================================================\n",
      "Total params: 1,975,825\n",
      "Trainable params: 1,975,825\n",
      "Non-trainable params: 0\n",
      "_________________________________________________________________\n",
      "2018-12-11 23:23:44 - None\n",
      "2018-12-11 23:23:44 ------------------------------------------------------------------------\n",
      "2018-12-11 23:23:44 - Fit:\n",
      "Train on 450 samples, validate on 1050 samples\n",
      "Epoch 1/30\n",
      "450/450 [==============================] - 1s 3ms/step - loss: 0.6935 - acc: 0.4689 - val_loss: 0.6923 - val_acc: 0.5086\n",
      "Epoch 2/30\n",
      "450/450 [==============================] - 0s 682us/step - loss: 0.6895 - acc: 0.5800 - val_loss: 0.6873 - val_acc: 0.5438\n",
      "Epoch 3/30\n",
      "450/450 [==============================] - 0s 697us/step - loss: 0.6708 - acc: 0.6711 - val_loss: 0.6676 - val_acc: 0.6743\n",
      "Epoch 4/30\n",
      "450/450 [==============================] - 0s 708us/step - loss: 0.6103 - acc: 0.8600 - val_loss: 0.6235 - val_acc: 0.7067\n",
      "Epoch 5/30\n",
      "450/450 [==============================] - 0s 705us/step - loss: 0.4801 - acc: 0.9022 - val_loss: 0.5571 - val_acc: 0.7238\n",
      "Epoch 6/30\n",
      "450/450 [==============================] - 0s 702us/step - loss: 0.3033 - acc: 0.9378 - val_loss: 0.5137 - val_acc: 0.7448\n",
      "Epoch 7/30\n",
      "450/450 [==============================] - 0s 709us/step - loss: 0.1561 - acc: 0.9600 - val_loss: 0.5413 - val_acc: 0.7448\n",
      "Epoch 8/30\n",
      "450/450 [==============================] - 0s 698us/step - loss: 0.0656 - acc: 0.9822 - val_loss: 0.6281 - val_acc: 0.7524\n",
      "Epoch 9/30\n",
      "450/450 [==============================] - 0s 701us/step - loss: 0.0271 - acc: 0.9889 - val_loss: 0.7948 - val_acc: 0.7524\n",
      "Epoch 10/30\n",
      "450/450 [==============================] - 0s 727us/step - loss: 0.0129 - acc: 0.9978 - val_loss: 0.8268 - val_acc: 0.7638\n",
      "Epoch 11/30\n",
      "450/450 [==============================] - 0s 710us/step - loss: 0.0090 - acc: 0.9978 - val_loss: 0.9260 - val_acc: 0.7648\n",
      "Epoch 12/30\n",
      "450/450 [==============================] - 0s 709us/step - loss: 0.0019 - acc: 1.0000 - val_loss: 1.0008 - val_acc: 0.7657\n",
      "Epoch 13/30\n",
      "450/450 [==============================] - 0s 694us/step - loss: 0.0024 - acc: 1.0000 - val_loss: 1.0610 - val_acc: 0.7648\n",
      "Epoch 14/30\n",
      "450/450 [==============================] - 0s 700us/step - loss: 0.0011 - acc: 1.0000 - val_loss: 1.1183 - val_acc: 0.7676\n",
      "Epoch 15/30\n",
      "450/450 [==============================] - 0s 703us/step - loss: 9.2159e-04 - acc: 1.0000 - val_loss: 1.1809 - val_acc: 0.7657\n",
      "Epoch 16/30\n",
      "450/450 [==============================] - 0s 713us/step - loss: 0.0039 - acc: 0.9978 - val_loss: 1.2015 - val_acc: 0.7695\n",
      "Epoch 17/30\n",
      "450/450 [==============================] - 0s 725us/step - loss: 9.2159e-04 - acc: 1.0000 - val_loss: 1.2296 - val_acc: 0.7686\n",
      "Epoch 18/30\n",
      "450/450 [==============================] - 0s 711us/step - loss: 0.0036 - acc: 0.9978 - val_loss: 1.2949 - val_acc: 0.7629\n",
      "Epoch 19/30\n",
      "450/450 [==============================] - 0s 712us/step - loss: 5.0505e-05 - acc: 1.0000 - val_loss: 1.4385 - val_acc: 0.7571\n",
      "Epoch 20/30\n",
      "450/450 [==============================] - 0s 718us/step - loss: 2.0998e-04 - acc: 1.0000 - val_loss: 1.5975 - val_acc: 0.7457\n",
      "Epoch 21/30\n",
      "450/450 [==============================] - 0s 720us/step - loss: 0.0024 - acc: 0.9978 - val_loss: 1.5475 - val_acc: 0.7533\n",
      "Epoch 22/30\n",
      "450/450 [==============================] - 0s 695us/step - loss: 3.1308e-04 - acc: 1.0000 - val_loss: 1.5237 - val_acc: 0.7543\n",
      "Epoch 23/30\n",
      "450/450 [==============================] - 0s 716us/step - loss: 0.0037 - acc: 0.9978 - val_loss: 1.4015 - val_acc: 0.7581\n",
      "Epoch 24/30\n",
      "450/450 [==============================] - 0s 695us/step - loss: 0.0024 - acc: 0.9978 - val_loss: 1.3933 - val_acc: 0.7619\n",
      "Epoch 25/30\n",
      "450/450 [==============================] - 0s 696us/step - loss: 1.8772e-04 - acc: 1.0000 - val_loss: 1.4201 - val_acc: 0.7581\n",
      "Epoch 26/30\n",
      "450/450 [==============================] - 0s 711us/step - loss: 5.9982e-04 - acc: 1.0000 - val_loss: 1.4285 - val_acc: 0.7600\n",
      "Epoch 27/30\n",
      "450/450 [==============================] - 0s 710us/step - loss: 5.2885e-05 - acc: 1.0000 - val_loss: 1.4315 - val_acc: 0.7610\n",
      "Epoch 28/30\n",
      "450/450 [==============================] - 0s 717us/step - loss: 1.6082e-04 - acc: 1.0000 - val_loss: 1.4276 - val_acc: 0.7619\n",
      "Epoch 29/30\n",
      "450/450 [==============================] - 0s 703us/step - loss: 2.9660e-05 - acc: 1.0000 - val_loss: 1.4206 - val_acc: 0.7657\n",
      "Epoch 30/30\n",
      "450/450 [==============================] - 0s 702us/step - loss: 6.0198e-05 - acc: 1.0000 - val_loss: 1.4154 - val_acc: 0.7657\n"
     ]
    },
    {
     "data": {
      "image/png": "[encoded data removed]",
      "text/plain": [
       "<Figure size 1080x360 with 2 Axes>"
      ]
     },
     "metadata": {
      "needs_background": "light"
     },
     "output_type": "display_data"
    },
    {
     "name": "stdout",
     "output_type": "stream",
     "text": [
      "2018-12-11 23:23:55 ------------------------------------------------------------------------\n",
      "2018-12-11 23:23:55 - Predictions:\n",
      "500/500 [==============================] - 0s 518us/step\n"
     ]
    },
    {
     "data": {
      "text/plain": [
       "'[1, 0, 1, 0, 1, 1, 0, 1, 0, 0, 0, 0, 1, 1, 1, 1, 1, 0, 0, 1, 1, 0, 0, 1, 0, 0, 1, 0, 0, 1, 0, 1, 0, 1, 0, 0, 1, 0, 1, 1, 1, 1, 1, 1, 1, 1, 0, 0, 0, 1, 0, 1, 0, 1, 0, 0, 1, 1, 0, 0, 1, 1, 1, 0, 0, 1, 1, 1, 1, 0, 1, 1, 1, 0, 1, 0, 1, 1, 0, 1, 1, 0, 1, 0, 0, 1, 0, 1, 1, 0, 0, 1, 1, 1, 1, 1, 0, 0, 0, 1, 0, 0, 1, 0, 1, 1, 1, 0, 0, 1, 1, 1, 0, 0, 0, 1, 0, 1, 0, 1, 1, 1, 1, 0, 0, 1, 0, 1, 1, 1, 1, 1, 0, 1, 1, 1, 1, 1, 1, 1, 1, 1, 1, 0, 0, 0, 0, 0, 0, 0, 0, 1, 0, 0, 0, 1, 0, 0, 1, 0, 1, 1, 0, 0, 1, 1, 1, 0, 0, 1, 1, 1, 1, 1, 0, 0, 1, 1, 0, 0, 0, 0, 1, 1, 1, 1, 1, 1, 1, 1, 1, 1, 1, 1, 1, 1, 1, 0, 1, 1, 1, 1, 1, 0, 0, 0, 1, 0, 0, 0, 0, 0, 1, 0, 1, 0, 1, 1, 0, 1, 1, 1, 0, 1, 1, 1, 0, 1, 0, 1, 1, 1, 1, 1, 1, 1, 1, 0, 1, 0, 1, 0, 1, 1, 1, 1, 1, 1, 1, 1, 1, 1, 0, 1, 1, 1, 1, 0, 0, 0, 1, 1, 0, 1, 0, 0, 1, 1, 0, 0, 1, 0, 1, 1, 0, 1, 0, 0, 0, 0, 0, 1, 0, 1, 1, 0, 0, 0, 0, 1, 1, 1, 1, 0, 1, 0, 0, 0, 1, 1, 1, 1, 1, 1, 0, 0, 1, 1, 0, 1, 1, 1, 0, 0, 0, 1, 1, 0, 0, 1, 0, 1, 0, 1, 0, 0, 0, 0, 0, 0, 1, 1, 1, 0, 1, 1, 1, 1, 1, 0, 1, 0, 1, 0, 1, 1, 0, 0, 1, 0, 0, 0, 0, 0, 1, 1, 1, 0, 1, 0, 1, 1, 1, 0, 0, 0, 0, 1, 1, 1, 1, 1, 1, 1, 1, 1, 1, 1, 0, 0, 1, 1, 1, 1, 1, 0, 1, 0, 0, 1, 1, 1, 1, 1, 1, 1, 0, 1, 1, 0, 1, 0, 1, 1, 1, 0, 1, 1, 1, 1, 1, 1, 1, 0, 1, 1, 1, 1, 1, 0, 0, 1, 0, 1, 1, 1, 1, 0, 1, 1, 1, 0, 0, 0, 1, 1, 1, 0, 0, 0, 0, 1, 1, 0, 1, 0, 1, 1, 0, 1, 1, 0, 0, 1, 1, 1, 0, 1, 1, 0, 0, 0, 1, 0, 0, 1, 1, 1, 0, 1, 0, 0, 1, 1, 0, 0, 0, 1, 1, 0, 0, 1, 0, 1, 0, 1, 0, 0, 0, 1, 1, 1, 1, 0, 0, 1, 0, 1, 0, 0]'"
      ]
     },
     "metadata": {},
     "output_type": "display_data"
    },
    {
     "name": "stdout",
     "output_type": "stream",
     "text": [
      "2018-12-11 23:23:55 ------------------------------------------------------------------------\n",
      "2018-12-11 23:23:55 - Test:\n"
     ]
    },
    {
     "data": {
      "text/plain": [
       "'[1, 0, 0, 0, 0, 1, 0, 1, 0, 0, 0, 0, 1, 1, 1, 1, 1, 1, 0, 0, 1, 0, 0, 1, 0, 0, 0, 0, 0, 1, 1, 1, 0, 1, 1, 0, 1, 0, 0, 1, 0, 1, 1, 1, 1, 1, 0, 0, 0, 1, 0, 1, 0, 1, 0, 1, 0, 1, 0, 0, 1, 1, 0, 0, 1, 1, 1, 0, 1, 0, 1, 1, 1, 0, 1, 0, 1, 1, 1, 0, 1, 0, 1, 1, 0, 0, 0, 1, 1, 0, 1, 0, 1, 1, 1, 0, 0, 0, 0, 1, 0, 0, 0, 1, 0, 0, 1, 0, 0, 1, 1, 1, 0, 0, 1, 1, 0, 1, 0, 0, 0, 1, 1, 0, 0, 1, 1, 1, 1, 1, 1, 1, 0, 1, 0, 1, 1, 1, 1, 1, 1, 1, 0, 0, 0, 0, 0, 0, 0, 1, 0, 0, 1, 1, 1, 1, 0, 0, 1, 0, 0, 1, 1, 1, 1, 1, 0, 0, 0, 1, 1, 1, 0, 0, 0, 0, 1, 1, 0, 0, 0, 0, 1, 1, 0, 0, 1, 0, 1, 1, 1, 1, 0, 1, 1, 1, 0, 0, 1, 1, 1, 0, 1, 1, 1, 0, 1, 0, 1, 0, 0, 1, 0, 0, 1, 0, 1, 1, 0, 1, 1, 1, 0, 1, 0, 0, 0, 1, 0, 1, 1, 1, 1, 0, 0, 1, 1, 0, 1, 1, 1, 0, 1, 1, 1, 1, 1, 1, 1, 0, 1, 1, 0, 0, 1, 1, 0, 1, 0, 0, 0, 1, 0, 1, 0, 0, 1, 0, 0, 0, 1, 0, 1, 1, 0, 0, 0, 0, 0, 0, 0, 1, 0, 0, 0, 0, 0, 0, 0, 1, 1, 1, 0, 0, 0, 0, 0, 0, 1, 1, 1, 1, 1, 1, 0, 0, 1, 1, 0, 1, 1, 1, 0, 1, 0, 0, 1, 1, 0, 0, 1, 0, 0, 0, 1, 0, 0, 0, 0, 1, 1, 1, 1, 0, 1, 0, 0, 1, 1, 0, 1, 0, 1, 0, 1, 0, 0, 0, 1, 0, 0, 0, 0, 0, 0, 1, 1, 0, 1, 0, 1, 0, 0, 0, 0, 0, 0, 1, 1, 0, 1, 1, 0, 1, 0, 1, 1, 1, 0, 0, 1, 1, 1, 0, 0, 0, 0, 0, 1, 1, 1, 1, 1, 0, 1, 1, 1, 1, 0, 0, 0, 0, 1, 1, 1, 0, 1, 1, 1, 1, 1, 0, 1, 0, 1, 0, 1, 1, 1, 0, 0, 0, 1, 1, 1, 0, 1, 0, 1, 1, 1, 0, 0, 0, 1, 0, 0, 1, 0, 0, 1, 1, 1, 0, 1, 0, 1, 1, 0, 1, 0, 0, 0, 0, 1, 1, 0, 1, 0, 1, 0, 0, 1, 0, 0, 0, 1, 0, 0, 1, 1, 0, 1, 1, 0, 0, 0, 0, 1, 1, 0, 1, 0, 1, 0, 0, 1, 0, 0, 1, 0, 1, 1, 0, 0, 1, 0, 1, 0, 0]'"
      ]
     },
     "metadata": {},
     "output_type": "display_data"
    },
    {
     "name": "stdout",
     "output_type": "stream",
     "text": [
      "2018-12-11 23:23:55 ------------------------------------------------------------------------\n",
      "2018-12-11 23:23:55 - Performance:\n",
      "500/500 [==============================] - 0s 223us/step\n",
      "2018-12-11 23:23:56 - [score, accuracy]\n",
      "2018-12-11 23:23:56 - [1.392213996887207, 0.7680000009536743]\n",
      "2018-12-11 23:23:56 ------------------------------------------------------------------------\n",
      "2018-12-11 23:23:56 - Saving parameters: results/parameters/parameters_20181211232310_acc_0.768000.csv\n",
      "2018-12-11 23:23:56 ------------------------------------------------------------------------\n",
      "2018-12-11 23:23:56 - Saving predictions: results/predictions/predictions_20181211232310_acc_0.768000.csv\n",
      "2018-12-11 23:23:56 - Done.\n",
      "2018-12-11 23:23:56 ------------------------------------------------------------------------\n",
      "2018-12-11 23:23:56 - STOP.\n",
      "2018-12-11 23:23:56 ------------------------------------------------------------------------\n"
     ]
    }
   ],
   "source": [
    "# Cargamos argumentos de prueba\n",
    "arguments = ['--model=3',\n",
    "             '--max_features=6000',\n",
    "             '--num_units=16',\n",
    "             '--dropout=0.2',\n",
    "             '--batch_size=200',             \n",
    "             '--epochs=30',\n",
    "             '--shuffle=batch',\n",
    "             '--random_seed=10',\n",
    "             '--verbose=1'\n",
    "            ]\n",
    "\n",
    "# Ejecutamos el procedimiento principal\n",
    "main()"
   ]
  },
  {
   "cell_type": "markdown",
   "metadata": {},
   "source": [
    "# 3. Reporte \n",
    "\n",
    "__Responde al punto:__\n",
    "_Reportar los hyperparámetros y resultados de todos los modelos entrenados. Para esto, pueden utilizar una notebook o un archivo (pdf|md). Dentro de este reporte tiene que describir:_\n",
    "\n",
    "* _Hyperparámetros con los que procesaron el dataset: tamaño del vocabulario, normalizaciones, etc._\n",
    "* _Las decisiones tomadas al construir cada modelo: regularización, dropout, número y tamaño de las capas, optimizador._\n",
    "* _Proceso de entrenamiento: división del train/test, tamaño del batch, número de épocas, métricas de evaluación._ \n",
    "* _Seleccione los mejores hiperparámetros en función de su rendimiento. El proceso de entrenamiento debería ser el mismo\n",
    "para todos los modelos._\n",
    "* _(Punto estrella) Analizar si el clasificador está haciendo overfitting. Esto se puede determinar a partir del resultado del método fit._\n"
   ]
  },
  {
   "cell_type": "markdown",
   "metadata": {},
   "source": [
    "## 3.1. Reporte de Hiperparámetros"
   ]
  },
  {
   "cell_type": "markdown",
   "metadata": {},
   "source": [
    "Training samples 1500 (1500), test_samples 500 (500)\n",
    "2018-12-08 17:36:49 - x_train_vec - type: <class 'numpy.ndarray'>, shape:(1500, 35393)\n",
    "2018-12-08 17:36:50 - x_test_vec - type: <class 'numpy.ndarray'>, shape:(500, 22062)\n",
    "                "
   ]
  },
  {
   "cell_type": "markdown",
   "metadata": {},
   "source": [
    "## 3.2. Descripción de los Modelos Utilizados\n",
    "\n",
    "Se describen a continuación los modelos utilizados para el trabajo."
   ]
  },
  {
   "cell_type": "markdown",
   "metadata": {},
   "source": [
    "### 3.2.1. Descripción del Modelo 1\n",
    "\n",
    "\n",
    "\n"
   ]
  },
  {
   "cell_type": "markdown",
   "metadata": {},
   "source": [
    "### 3.2.2. Descripción del Modelo 2\n",
    "\n"
   ]
  },
  {
   "cell_type": "markdown",
   "metadata": {},
   "source": [
    "### 3.2.3. Descripción del Modelo 3\n",
    "\n"
   ]
  },
  {
   "cell_type": "markdown",
   "metadata": {},
   "source": [
    "## 3.3. Descripción de Proceso de Entrenamiento"
   ]
  },
  {
   "cell_type": "markdown",
   "metadata": {},
   "source": [
    "## 3.4. Selección de los mejores hiperparámetros"
   ]
  },
  {
   "cell_type": "markdown",
   "metadata": {},
   "source": [
    "## 3.5. Análisis sobre el Overfitting\n"
   ]
  },
  {
   "cell_type": "markdown",
   "metadata": {},
   "source": [
    "# 4. Conclusiones"
   ]
  },
  {
   "cell_type": "code",
   "execution_count": null,
   "metadata": {},
   "outputs": [],
   "source": [
    "0.8100000009536743\n",
    "\n",
    "\n",
    "\n"
   ]
  }
 ],
 "metadata": {
  "kernelspec": {
   "display_name": "Python 3",
   "language": "python",
   "name": "python3"
  },
  "language_info": {
   "codemirror_mode": {
    "name": "ipython",
    "version": 3
   },
   "file_extension": ".py",
   "mimetype": "text/x-python",
   "name": "python",
   "nbconvert_exporter": "python",
   "pygments_lexer": "ipython3",
   "version": "3.6.5"
  }
 },
 "nbformat": 4,
 "nbformat_minor": 2
}
